{
 "cells": [
  {
   "cell_type": "code",
   "execution_count": null,
   "id": "09a39cd6-e023-4dd9-b8f2-f1ac5d161c38",
   "metadata": {},
   "outputs": [],
   "source": [
    "!python -m pip install -U keras-preprocessing"
   ]
  },
  {
   "cell_type": "code",
   "execution_count": null,
   "id": "d59800e6-7f96-4283-adec-19698c487359",
   "metadata": {},
   "outputs": [],
   "source": [
    "!pip install git+https://www.github.com/scikit-learn/scikit-learn.git --upgrade"
   ]
  },
  {
   "cell_type": "code",
   "execution_count": 1,
   "id": "de026b43-b3b9-4b5f-8cc9-5dd29be76dad",
   "metadata": {},
   "outputs": [
    {
     "name": "stdout",
     "output_type": "stream",
     "text": [
      "Клонирование в «PlantVillage-Dataset»…\n",
      "remote: Enumerating objects: 163229, done.\u001b[K\n",
      "remote: Total 163229 (delta 0), reused 0 (delta 0), pack-reused 163229\u001b[K\n",
      "Получение объектов: 100% (163229/163229), 2.00 GiB | 11.00 MiB/s, готово.\n",
      "Определение изменений: 100% (99/99), готово.\n",
      "Updating files: 100% (182401/182401), готово.\n"
     ]
    }
   ],
   "source": [
    "!git clone https://github.com/spMohanty/PlantVillage-Dataset"
   ]
  }
 ],
 "metadata": {
  "kernelspec": {
   "display_name": "Python 3 (ipykernel)",
   "language": "python",
   "name": "python3"
  },
  "language_info": {
   "codemirror_mode": {
    "name": "ipython",
    "version": 3
   },
   "file_extension": ".py",
   "mimetype": "text/x-python",
   "name": "python",
   "nbconvert_exporter": "python",
   "pygments_lexer": "ipython3",
   "version": "3.9.2"
  }
 },
 "nbformat": 4,
 "nbformat_minor": 5
}
