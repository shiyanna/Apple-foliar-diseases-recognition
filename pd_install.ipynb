{
 "cells": [
  {
   "cell_type": "code",
   "execution_count": 1,
   "id": "09a39cd6-e023-4dd9-b8f2-f1ac5d161c38",
   "metadata": {},
   "outputs": [
    {
     "name": "stdout",
     "output_type": "stream",
     "text": [
      "Requirement already satisfied: keras-preprocessing in /home/ivankozloov/ivna/plants/lib/python3.9/site-packages (1.1.2)\n",
      "Requirement already satisfied: numpy>=1.9.1 in /home/ivankozloov/ivna/plants/lib/python3.9/site-packages (from keras-preprocessing) (1.26.4)\n",
      "Requirement already satisfied: six>=1.9.0 in /home/ivankozloov/ivna/plants/lib/python3.9/site-packages (from keras-preprocessing) (1.16.0)\n"
     ]
    }
   ],
   "source": [
    "!python -m pip install -U keras-preprocessing"
   ]
  },
  {
   "cell_type": "code",
   "execution_count": 2,
   "id": "d59800e6-7f96-4283-adec-19698c487359",
   "metadata": {},
   "outputs": [
    {
     "name": "stdout",
     "output_type": "stream",
     "text": [
      "Collecting git+https://www.github.com/scikit-learn/scikit-learn.git\n",
      "  Cloning https://www.github.com/scikit-learn/scikit-learn.git to /tmp/pip-req-build-grf_a71n\n",
      "  Running command git clone --filter=blob:none --quiet https://www.github.com/scikit-learn/scikit-learn.git /tmp/pip-req-build-grf_a71n\n",
      "  warning: переадресация на https://github.com/scikit-learn/scikit-learn.git/\n",
      "  Resolved https://www.github.com/scikit-learn/scikit-learn.git to commit 0f27a26d0f78b07245158f5997066a3b2c1d76ba\n",
      "  Installing build dependencies ... \u001b[?25ldone\n",
      "\u001b[?25h  Getting requirements to build wheel ... \u001b[?25ldone\n",
      "\u001b[?25h  Installing backend dependencies ... \u001b[?25ldone\n",
      "\u001b[?25h  Preparing metadata (pyproject.toml) ... \u001b[?25lerror\n",
      "  \u001b[1;31merror\u001b[0m: \u001b[1msubprocess-exited-with-error\u001b[0m\n",
      "  \n",
      "  \u001b[31m×\u001b[0m \u001b[32mPreparing metadata \u001b[0m\u001b[1;32m(\u001b[0m\u001b[32mpyproject.toml\u001b[0m\u001b[1;32m)\u001b[0m did not run successfully.\n",
      "  \u001b[31m│\u001b[0m exit code: \u001b[1;36m1\u001b[0m\n",
      "  \u001b[31m╰─>\u001b[0m \u001b[31m[70 lines of output]\u001b[0m\n",
      "  \u001b[31m   \u001b[0m \u001b[36m\u001b[1m+ meson setup /tmp/pip-req-build-grf_a71n /tmp/pip-req-build-grf_a71n/.mesonpy-brn2ebd_ -Dbuildtype=release -Db_ndebug=if-release -Db_vscrt=md --native-file=/tmp/pip-req-build-grf_a71n/.mesonpy-brn2ebd_/meson-python-native-file.ini\u001b[0m\n",
      "  \u001b[31m   \u001b[0m The Meson build system\n",
      "  \u001b[31m   \u001b[0m Version: 1.4.0\n",
      "  \u001b[31m   \u001b[0m Source dir: /tmp/pip-req-build-grf_a71n\n",
      "  \u001b[31m   \u001b[0m Build dir: /tmp/pip-req-build-grf_a71n/.mesonpy-brn2ebd_\n",
      "  \u001b[31m   \u001b[0m Build type: native build\n",
      "  \u001b[31m   \u001b[0m Project name: scikit-learn\n",
      "  \u001b[31m   \u001b[0m Project version: 1.6.dev0\n",
      "  \u001b[31m   \u001b[0m C compiler for the host machine: cc (gcc 10.2.1 \"cc (Debian 10.2.1-6) 10.2.1 20210110\")\n",
      "  \u001b[31m   \u001b[0m C linker for the host machine: cc ld.bfd 2.35.2\n",
      "  \u001b[31m   \u001b[0m C++ compiler for the host machine: c++ (gcc 10.2.1 \"c++ (Debian 10.2.1-6) 10.2.1 20210110\")\n",
      "  \u001b[31m   \u001b[0m C++ linker for the host machine: c++ ld.bfd 2.35.2\n",
      "  \u001b[31m   \u001b[0m Cython compiler for the host machine: cython (cython 3.0.10)\n",
      "  \u001b[31m   \u001b[0m Host machine cpu family: x86_64\n",
      "  \u001b[31m   \u001b[0m Host machine cpu: x86_64\n",
      "  \u001b[31m   \u001b[0m Compiler for C supports arguments -Wno-unused-but-set-variable: YES\n",
      "  \u001b[31m   \u001b[0m Compiler for C supports arguments -Wno-unused-function: YES\n",
      "  \u001b[31m   \u001b[0m Compiler for C supports arguments -Wno-conversion: YES\n",
      "  \u001b[31m   \u001b[0m Compiler for C supports arguments -Wno-misleading-indentation: YES\n",
      "  \u001b[31m   \u001b[0m Library m found: YES\n",
      "  \u001b[31m   \u001b[0m Program python found: YES (/home/ivankozloov/ivna/plants/bin/python3)\n",
      "  \u001b[31m   \u001b[0m Run-time dependency OpenMP for c found: YES 4.5\n",
      "  \u001b[31m   \u001b[0m Did not find pkg-config by name 'pkg-config'\n",
      "  \u001b[31m   \u001b[0m Found pkg-config: NO\n",
      "  \u001b[31m   \u001b[0m Run-time dependency python found: YES 3.9\n",
      "  \u001b[31m   \u001b[0m Build targets in project: 111\n",
      "  \u001b[31m   \u001b[0m \n",
      "  \u001b[31m   \u001b[0m scikit-learn 1.6.dev0\n",
      "  \u001b[31m   \u001b[0m \n",
      "  \u001b[31m   \u001b[0m   User defined options\n",
      "  \u001b[31m   \u001b[0m     Native files: /tmp/pip-req-build-grf_a71n/.mesonpy-brn2ebd_/meson-python-native-file.ini\n",
      "  \u001b[31m   \u001b[0m     buildtype   : release\n",
      "  \u001b[31m   \u001b[0m     b_ndebug    : if-release\n",
      "  \u001b[31m   \u001b[0m     b_vscrt     : md\n",
      "  \u001b[31m   \u001b[0m \n",
      "  \u001b[31m   \u001b[0m Found ninja-1.11.1.git.kitware.jobserver-1 at /tmp/pip-build-env-f5gqnva9/normal/bin/ninja\n",
      "  \u001b[31m   \u001b[0m \u001b[36m\u001b[1m+ /tmp/pip-build-env-f5gqnva9/normal/bin/ninja\u001b[0m\n",
      "  \u001b[31m   \u001b[0m [1/249] Generating sklearn/write_built_with_meson_file with a custom command\n",
      "  \u001b[31m   \u001b[0m [2/249] Copying file sklearn/__init__.py\n",
      "  \u001b[31m   \u001b[0m [3/249] Copying file sklearn/_loss/_loss.pxd\n",
      "  \u001b[31m   \u001b[0m [4/249] Generating sklearn/_loss/_loss_pyx with a custom command\n",
      "  \u001b[31m   \u001b[0m [5/249] Copying file sklearn/utils/__init__.py\n",
      "  \u001b[31m   \u001b[0m [6/249] Copying file sklearn/utils/_cython_blas.pxd\n",
      "  \u001b[31m   \u001b[0m [7/249] Copying file sklearn/utils/_openmp_helpers.pxd\n",
      "  \u001b[31m   \u001b[0m [8/249] Copying file sklearn/utils/_heap.pxd\n",
      "  \u001b[31m   \u001b[0m [9/249] Copying file sklearn/utils/_random.pxd\n",
      "  \u001b[31m   \u001b[0m [10/249] Copying file sklearn/utils/_sorting.pxd\n",
      "  \u001b[31m   \u001b[0m [11/249] Copying file sklearn/utils/_typedefs.pxd\n",
      "  \u001b[31m   \u001b[0m [12/249] Copying file sklearn/utils/_vector_sentinel.pxd\n",
      "  \u001b[31m   \u001b[0m [13/249] Generating sklearn/utils/_seq_dataset_pyx with a custom command\n",
      "  \u001b[31m   \u001b[0m [14/249] Generating sklearn/utils/_seq_dataset_pxd with a custom command\n",
      "  \u001b[31m   \u001b[0m [15/249] Generating sklearn/utils/_weight_vector_pxd with a custom command\n",
      "  \u001b[31m   \u001b[0m [16/249] Generating sklearn/utils/_weight_vector_pyx with a custom command\n",
      "  \u001b[31m   \u001b[0m [17/249] Compiling C++ object sklearn/utils/murmurhash.cpython-39-x86_64-linux-gnu.so.p/src_MurmurHash3.cpp.o\n",
      "  \u001b[31m   \u001b[0m [18/249] Compiling Cython source /tmp/pip-req-build-grf_a71n/sklearn/__check_build/_check_build.pyx\n",
      "  \u001b[31m   \u001b[0m [19/249] Compiling C object sklearn/__check_build/_check_build.cpython-39-x86_64-linux-gnu.so.p/meson-generated_sklearn___check_build__check_build.pyx.c.o\n",
      "  \u001b[31m   \u001b[0m \u001b[31mFAILED: \u001b[0msklearn/__check_build/_check_build.cpython-39-x86_64-linux-gnu.so.p/meson-generated_sklearn___check_build__check_build.pyx.c.o\n",
      "  \u001b[31m   \u001b[0m cc -Isklearn/__check_build/_check_build.cpython-39-x86_64-linux-gnu.so.p -Isklearn/__check_build -I../sklearn/__check_build -I/usr/include/python3.9 -I/home/ivankozloov/ivna/plants/include/python3.9 -fvisibility=hidden -fdiagnostics-color=always -DNDEBUG -D_FILE_OFFSET_BITS=64 -Wall -Winvalid-pch -std=c11 -O3 -Wno-unused-but-set-variable -Wno-unused-function -Wno-conversion -Wno-misleading-indentation -fPIC -MD -MQ sklearn/__check_build/_check_build.cpython-39-x86_64-linux-gnu.so.p/meson-generated_sklearn___check_build__check_build.pyx.c.o -MF sklearn/__check_build/_check_build.cpython-39-x86_64-linux-gnu.so.p/meson-generated_sklearn___check_build__check_build.pyx.c.o.d -o sklearn/__check_build/_check_build.cpython-39-x86_64-linux-gnu.so.p/meson-generated_sklearn___check_build__check_build.pyx.c.o -c sklearn/__check_build/_check_build.cpython-39-x86_64-linux-gnu.so.p/sklearn/__check_build/_check_build.pyx.c\n",
      "  \u001b[31m   \u001b[0m \u001b[01m\u001b[Ksklearn/__check_build/_check_build.cpython-39-x86_64-linux-gnu.so.p/sklearn/__check_build/_check_build.pyx.c:16:10:\u001b[m\u001b[K \u001b[01;31m\u001b[Kfatal error: \u001b[m\u001b[KPython.h: Нет такого файла или каталога\n",
      "  \u001b[31m   \u001b[0m    16 | #include \u001b[01;31m\u001b[K\"Python.h\"\u001b[m\u001b[K\n",
      "  \u001b[31m   \u001b[0m       |          \u001b[01;31m\u001b[K^~~~~~~~~~\u001b[m\u001b[K\n",
      "  \u001b[31m   \u001b[0m compilation terminated.\n",
      "  \u001b[31m   \u001b[0m [20/249] Compiling Cython source /tmp/pip-req-build-grf_a71n/sklearn/_isotonic.pyx\n",
      "  \u001b[31m   \u001b[0m [21/249] Compiling Cython source /tmp/pip-req-build-grf_a71n/sklearn/utils/murmurhash.pyx\n",
      "  \u001b[31m   \u001b[0m [22/249] Compiling Cython source /tmp/pip-req-build-grf_a71n/sklearn/utils/_fast_dict.pyx\n",
      "  \u001b[31m   \u001b[0m [23/249] Compiling Cython source /tmp/pip-req-build-grf_a71n/sklearn/utils/arrayfuncs.pyx\n",
      "  \u001b[31m   \u001b[0m [24/249] Compiling Cython source /tmp/pip-req-build-grf_a71n/sklearn/utils/_cython_blas.pyx\n",
      "  \u001b[31m   \u001b[0m [25/249] Compiling Cython source /tmp/pip-req-build-grf_a71n/sklearn/utils/sparsefuncs_fast.pyx\n",
      "  \u001b[31m   \u001b[0m [26/249] Compiling Cython source sklearn/_loss/_loss.pyx\n",
      "  \u001b[31m   \u001b[0m ninja: build stopped: subcommand failed.\n",
      "  \u001b[31m   \u001b[0m \u001b[31m[end of output]\u001b[0m\n",
      "  \n",
      "  \u001b[1;35mnote\u001b[0m: This error originates from a subprocess, and is likely not a problem with pip.\n",
      "\u001b[1;31merror\u001b[0m: \u001b[1mmetadata-generation-failed\u001b[0m\n",
      "\n",
      "\u001b[31m×\u001b[0m Encountered error while generating package metadata.\n",
      "\u001b[31m╰─>\u001b[0m See above for output.\n",
      "\n",
      "\u001b[1;35mnote\u001b[0m: This is an issue with the package mentioned above, not pip.\n",
      "\u001b[1;36mhint\u001b[0m: See above for details.\n",
      "\u001b[?25h"
     ]
    }
   ],
   "source": [
    "!pip install git+https://www.github.com/scikit-learn/scikit-learn.git --upgrade"
   ]
  },
  {
   "cell_type": "code",
   "execution_count": 1,
   "id": "de026b43-b3b9-4b5f-8cc9-5dd29be76dad",
   "metadata": {},
   "outputs": [
    {
     "name": "stdout",
     "output_type": "stream",
     "text": [
      "Клонирование в «PlantDoc-Dataset-windows-compatible»…\n",
      "remote: Enumerating objects: 3085, done.\u001b[K\n",
      "remote: Counting objects: 100% (457/457), done.\u001b[K\n",
      "remote: Compressing objects: 100% (188/188), done.\u001b[K\n",
      "remote: Total 3085 (delta 299), reused 412 (delta 268), pack-reused 2628\u001b[K\n",
      "Получение объектов: 100% (3085/3085), 933.11 MiB | 9.63 MiB/s, готово.\n",
      "Определение изменений: 100% (300/300), готово.\n",
      "Updating files: 100% (2581/2581), готово.\n"
     ]
    }
   ],
   "source": [
    "!git clone https://github.com/shiyanna/PlantDoc-Dataset-windows-compatible"
   ]
  }
 ],
 "metadata": {
  "kernelspec": {
   "display_name": "Python 3 (ipykernel)",
   "language": "python",
   "name": "python3"
  },
  "language_info": {
   "codemirror_mode": {
    "name": "ipython",
    "version": 3
   },
   "file_extension": ".py",
   "mimetype": "text/x-python",
   "name": "python",
   "nbconvert_exporter": "python",
   "pygments_lexer": "ipython3",
   "version": "3.9.2"
  }
 },
 "nbformat": 4,
 "nbformat_minor": 5
}
